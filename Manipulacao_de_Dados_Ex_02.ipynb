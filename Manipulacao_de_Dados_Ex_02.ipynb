{
 "cells": [
  {
   "cell_type": "markdown",
   "metadata": {
    "colab_type": "text",
    "id": "mG98ajLLNIjz"
   },
   "source": [
    "![](https://i.imgur.com/JsMvGnP.png)"
   ]
  },
  {
   "cell_type": "markdown",
   "metadata": {
    "colab_type": "text",
    "id": "7Ch5KPRpui-Q"
   },
   "source": [
    "\n",
    "## Exercícios de manipulação de dados - Parte 2"
   ]
  },
  {
   "cell_type": "markdown",
   "metadata": {
    "colab_type": "text",
    "id": "IscqV7Obui-R"
   },
   "source": [
    "Neste Jupyter notebook você irá resolver uma exercícios utilizando a linguagem Python e a biblioteca Pandas.\n",
    "\n",
    "Todos os datasets utilizados nos exercícios estão salvos na pasta **datasets**.\n",
    "\n",
    "Todo o seu código deve ser executado neste Jupyter Notebook. Por fim, se desejar, revise as respostas com o seu mentor."
   ]
  },
  {
   "cell_type": "markdown",
   "metadata": {
    "colab_type": "text",
    "id": "Trmht8Dfui-S"
   },
   "source": [
    "### Tarefa 1. Importe o dataset e salve os dados em um dataframe\n",
    "\n",
    "Os dados estão salvos no arquivo ***datasets/US_Crime_Rates_1960_2014.csv***.\n",
    "\n",
    "Este dataset contém dados de crimes ocorridos nos Estados Unidos no período de 1960 até 2014.\n",
    "\n",
    "Salve os dados em uma variável de nome *crime*."
   ]
  },
  {
   "cell_type": "code",
   "execution_count": 1,
   "metadata": {
    "colab": {},
    "colab_type": "code",
    "id": "LN4JDdSjui-T"
   },
   "outputs": [],
   "source": [
    "import pandas as pd"
   ]
  },
  {
   "cell_type": "code",
   "execution_count": 2,
   "metadata": {},
   "outputs": [],
   "source": [
    "us = pd.read_csv(\"datasets/US_Crime_Rates_1960_2014.csv.\", sep=\",\")"
   ]
  },
  {
   "cell_type": "code",
   "execution_count": 3,
   "metadata": {},
   "outputs": [
    {
     "data": {
      "text/html": [
       "<div>\n",
       "<style scoped>\n",
       "    .dataframe tbody tr th:only-of-type {\n",
       "        vertical-align: middle;\n",
       "    }\n",
       "\n",
       "    .dataframe tbody tr th {\n",
       "        vertical-align: top;\n",
       "    }\n",
       "\n",
       "    .dataframe thead th {\n",
       "        text-align: right;\n",
       "    }\n",
       "</style>\n",
       "<table border=\"1\" class=\"dataframe\">\n",
       "  <thead>\n",
       "    <tr style=\"text-align: right;\">\n",
       "      <th></th>\n",
       "      <th>Year</th>\n",
       "      <th>Population</th>\n",
       "      <th>Total</th>\n",
       "      <th>Violent</th>\n",
       "      <th>Property</th>\n",
       "      <th>Murder</th>\n",
       "      <th>Forcible_Rape</th>\n",
       "      <th>Robbery</th>\n",
       "      <th>Aggravated_assault</th>\n",
       "      <th>Burglary</th>\n",
       "      <th>Larceny_Theft</th>\n",
       "      <th>Vehicle_Theft</th>\n",
       "    </tr>\n",
       "  </thead>\n",
       "  <tbody>\n",
       "    <tr>\n",
       "      <th>0</th>\n",
       "      <td>1960</td>\n",
       "      <td>179323175</td>\n",
       "      <td>3384200</td>\n",
       "      <td>288460</td>\n",
       "      <td>3095700</td>\n",
       "      <td>9110</td>\n",
       "      <td>17190</td>\n",
       "      <td>107840</td>\n",
       "      <td>154320</td>\n",
       "      <td>912100</td>\n",
       "      <td>1855400</td>\n",
       "      <td>328200</td>\n",
       "    </tr>\n",
       "    <tr>\n",
       "      <th>1</th>\n",
       "      <td>1961</td>\n",
       "      <td>182992000</td>\n",
       "      <td>3488000</td>\n",
       "      <td>289390</td>\n",
       "      <td>3198600</td>\n",
       "      <td>8740</td>\n",
       "      <td>17220</td>\n",
       "      <td>106670</td>\n",
       "      <td>156760</td>\n",
       "      <td>949600</td>\n",
       "      <td>1913000</td>\n",
       "      <td>336000</td>\n",
       "    </tr>\n",
       "    <tr>\n",
       "      <th>2</th>\n",
       "      <td>1962</td>\n",
       "      <td>185771000</td>\n",
       "      <td>3752200</td>\n",
       "      <td>301510</td>\n",
       "      <td>3450700</td>\n",
       "      <td>8530</td>\n",
       "      <td>17550</td>\n",
       "      <td>110860</td>\n",
       "      <td>164570</td>\n",
       "      <td>994300</td>\n",
       "      <td>2089600</td>\n",
       "      <td>366800</td>\n",
       "    </tr>\n",
       "    <tr>\n",
       "      <th>3</th>\n",
       "      <td>1963</td>\n",
       "      <td>188483000</td>\n",
       "      <td>4109500</td>\n",
       "      <td>316970</td>\n",
       "      <td>3792500</td>\n",
       "      <td>8640</td>\n",
       "      <td>17650</td>\n",
       "      <td>116470</td>\n",
       "      <td>174210</td>\n",
       "      <td>1086400</td>\n",
       "      <td>2297800</td>\n",
       "      <td>408300</td>\n",
       "    </tr>\n",
       "    <tr>\n",
       "      <th>4</th>\n",
       "      <td>1964</td>\n",
       "      <td>191141000</td>\n",
       "      <td>4564600</td>\n",
       "      <td>364220</td>\n",
       "      <td>4200400</td>\n",
       "      <td>9360</td>\n",
       "      <td>21420</td>\n",
       "      <td>130390</td>\n",
       "      <td>203050</td>\n",
       "      <td>1213200</td>\n",
       "      <td>2514400</td>\n",
       "      <td>472800</td>\n",
       "    </tr>\n",
       "  </tbody>\n",
       "</table>\n",
       "</div>"
      ],
      "text/plain": [
       "   Year  Population    Total  Violent  Property  Murder  Forcible_Rape  \\\n",
       "0  1960   179323175  3384200   288460   3095700    9110          17190   \n",
       "1  1961   182992000  3488000   289390   3198600    8740          17220   \n",
       "2  1962   185771000  3752200   301510   3450700    8530          17550   \n",
       "3  1963   188483000  4109500   316970   3792500    8640          17650   \n",
       "4  1964   191141000  4564600   364220   4200400    9360          21420   \n",
       "\n",
       "   Robbery  Aggravated_assault  Burglary  Larceny_Theft  Vehicle_Theft  \n",
       "0   107840              154320    912100        1855400         328200  \n",
       "1   106670              156760    949600        1913000         336000  \n",
       "2   110860              164570    994300        2089600         366800  \n",
       "3   116470              174210   1086400        2297800         408300  \n",
       "4   130390              203050   1213200        2514400         472800  "
      ]
     },
     "execution_count": 3,
     "metadata": {},
     "output_type": "execute_result"
    }
   ],
   "source": [
    "us.head()"
   ]
  },
  {
   "cell_type": "markdown",
   "metadata": {
    "colab_type": "text",
    "id": "8F6IEdZsui-X"
   },
   "source": [
    "### Tarefa 2. Qual o tipo de dados em cada coluna?"
   ]
  },
  {
   "cell_type": "code",
   "execution_count": 4,
   "metadata": {
    "colab": {},
    "colab_type": "code",
    "id": "guR3et-zui-Y"
   },
   "outputs": [
    {
     "data": {
      "text/plain": [
       "Year                  int64\n",
       "Population            int64\n",
       "Total                 int64\n",
       "Violent               int64\n",
       "Property              int64\n",
       "Murder                int64\n",
       "Forcible_Rape         int64\n",
       "Robbery               int64\n",
       "Aggravated_assault    int64\n",
       "Burglary              int64\n",
       "Larceny_Theft         int64\n",
       "Vehicle_Theft         int64\n",
       "dtype: object"
      ]
     },
     "execution_count": 4,
     "metadata": {},
     "output_type": "execute_result"
    }
   ],
   "source": [
    "us.dtypes"
   ]
  },
  {
   "cell_type": "markdown",
   "metadata": {
    "colab_type": "text",
    "id": "ZnhPRMhrui-c"
   },
   "source": [
    "### Tarefa 3. Converta o tipo de dado da coluna Year para o tipo datetime\n",
    "\n",
    "*Dica: procure na documentação da biblioteca como fazer tal conversão*"
   ]
  },
  {
   "cell_type": "code",
   "execution_count": 5,
   "metadata": {
    "colab": {},
    "colab_type": "code",
    "id": "HAIM8iB3ui-d"
   },
   "outputs": [
    {
     "name": "stdout",
     "output_type": "stream",
     "text": [
      "                            Year  Population     Total  Violent  Property  \\\n",
      "0  1970-01-01 00:00:00.000001960   179323175   3384200   288460   3095700   \n",
      "1  1970-01-01 00:00:00.000001961   182992000   3488000   289390   3198600   \n",
      "2  1970-01-01 00:00:00.000001962   185771000   3752200   301510   3450700   \n",
      "3  1970-01-01 00:00:00.000001963   188483000   4109500   316970   3792500   \n",
      "4  1970-01-01 00:00:00.000001964   191141000   4564600   364220   4200400   \n",
      "5  1970-01-01 00:00:00.000001965   193526000   4739400   387390   4352000   \n",
      "6  1970-01-01 00:00:00.000001966   195576000   5223500   430180   4793300   \n",
      "7  1970-01-01 00:00:00.000001967   197457000   5903400   499930   5403500   \n",
      "8  1970-01-01 00:00:00.000001968   199399000   6720200   595010   6125200   \n",
      "9  1970-01-01 00:00:00.000001969   201385000   7410900   661870   6749000   \n",
      "10 1970-01-01 00:00:00.000001970   203235298   8098000   738820   7359200   \n",
      "11 1970-01-01 00:00:00.000001971   206212000   8588200   816500   7771700   \n",
      "12 1970-01-01 00:00:00.000001972   208230000   8248800   834900   7413900   \n",
      "13 1970-01-01 00:00:00.000001973   209851000   8718100   875910   7842200   \n",
      "14 1970-01-01 00:00:00.000001974   211392000  10253400   974720   9278700   \n",
      "15 1970-01-01 00:00:00.000001975   213124000  11292400  1039710  10252700   \n",
      "16 1970-01-01 00:00:00.000001976   214659000  11349700  1004210  10345500   \n",
      "17 1970-01-01 00:00:00.000001977   216332000  10984500  1029580   9955000   \n",
      "18 1970-01-01 00:00:00.000001978   218059000  11209000  1085550  10123400   \n",
      "19 1970-01-01 00:00:00.000001979   220099000  12249500  1208030  11041500   \n",
      "20 1970-01-01 00:00:00.000001980   225349264  13408300  1344520  12063700   \n",
      "21 1970-01-01 00:00:00.000001981   229146000  13423800  1361820  12061900   \n",
      "22 1970-01-01 00:00:00.000001982   231534000  12974400  1322390  11652000   \n",
      "23 1970-01-01 00:00:00.000001983   233981000  12108600  1258090  10850500   \n",
      "24 1970-01-01 00:00:00.000001984   236158000  11881800  1273280  10608500   \n",
      "25 1970-01-01 00:00:00.000001985   238740000  12431400  1328800  11102600   \n",
      "26 1970-01-01 00:00:00.000001986   240132887  13211869  1489169  11722700   \n",
      "27 1970-01-01 00:00:00.000001987   242282918  13508700  1483999  12024700   \n",
      "28 1970-01-01 00:00:00.000001988   245807000  13923100  1566220  12356900   \n",
      "29 1970-01-01 00:00:00.000001989   248239000  14251400  1646040  12605400   \n",
      "30 1970-01-01 00:00:00.000001990   248709873  14475600  1820130  12655500   \n",
      "31 1970-01-01 00:00:00.000001991   252177000  14872900  1911770  12961100   \n",
      "32 1970-01-01 00:00:00.000001992   255082000  14438200  1932270  12505900   \n",
      "33 1970-01-01 00:00:00.000001993   257908000  14144800  1926020  12218800   \n",
      "34 1970-01-01 00:00:00.000001994   260341000  13989500  1857670  12131900   \n",
      "35 1970-01-01 00:00:00.000001995   262755000  13862700  1798790  12063900   \n",
      "36 1970-01-01 00:00:00.000001996   265228572  13493863  1688540  11805300   \n",
      "37 1970-01-01 00:00:00.000001997   267637000  13194571  1634770  11558175   \n",
      "38 1970-01-01 00:00:00.000001998   270296000  12475634  1531044  10944590   \n",
      "39 1970-01-01 00:00:00.000001999   272690813  11634378  1426044  10208334   \n",
      "40 1970-01-01 00:00:00.000002000   281421906  11608072  1425486  10182586   \n",
      "41 1970-01-01 00:00:00.000002001   285317559  11876669  1439480  10437480   \n",
      "42 1970-01-01 00:00:00.000002002   287973924  11878954  1423677  10455277   \n",
      "43 1970-01-01 00:00:00.000002003   290690788  11826538  1383676  10442862   \n",
      "44 1970-01-01 00:00:00.000002004   293656842  11679474  1360088  10319386   \n",
      "45 1970-01-01 00:00:00.000002005   296507061  11565499  1390745  10174754   \n",
      "46 1970-01-01 00:00:00.000002006   299398484  11401511  1418043   9983568   \n",
      "47 1970-01-01 00:00:00.000002007   301621157  11251828  1408337   9843481   \n",
      "48 1970-01-01 00:00:00.000002008   304374846  11160543  1392628   9767915   \n",
      "49 1970-01-01 00:00:00.000002009   307006550  10762956  1325896   9337060   \n",
      "50 1970-01-01 00:00:00.000002010   309330219  10363873  1251248   9112625   \n",
      "51 1970-01-01 00:00:00.000002011   311587816  10258774  1206031   9052743   \n",
      "52 1970-01-01 00:00:00.000002012   313873685  10219059  1217067   9001992   \n",
      "53 1970-01-01 00:00:00.000002013   316497531   9850445  1199684   8650761   \n",
      "54 1970-01-01 00:00:00.000002014   318857056   9475816  1197987   8277829   \n",
      "\n",
      "    Murder  Forcible_Rape  Robbery  Aggravated_assault  Burglary  \\\n",
      "0     9110          17190   107840              154320    912100   \n",
      "1     8740          17220   106670              156760    949600   \n",
      "2     8530          17550   110860              164570    994300   \n",
      "3     8640          17650   116470              174210   1086400   \n",
      "4     9360          21420   130390              203050   1213200   \n",
      "5     9960          23410   138690              215330   1282500   \n",
      "6    11040          25820   157990              235330   1410100   \n",
      "7    12240          27620   202910              257160   1632100   \n",
      "8    13800          31670   262840              286700   1858900   \n",
      "9    14760          37170   298850              311090   1981900   \n",
      "10   16000          37990   349860              334970   2205000   \n",
      "11   17780          42260   387700              368760   2399300   \n",
      "12   18670          46850   376290              393090   2375500   \n",
      "13   19640          51400   384220              420650   2565500   \n",
      "14   20710          55400   442400              456210   3039200   \n",
      "15   20510          56090   470500              492620   3265300   \n",
      "16   18780          57080   427810              500530   3108700   \n",
      "17   19120          63500   412610              534350   3071500   \n",
      "18   19560          67610   426930              571460   3128300   \n",
      "19   21460          76390   480700              629480   3327700   \n",
      "20   23040          82990   565840              672650   3795200   \n",
      "21   22520          82500   592910              663900   3779700   \n",
      "22   21010          78770   553130              669480   3447100   \n",
      "23   19310          78920   506570              653290   3129900   \n",
      "24   18690          84230   485010              685350   2984400   \n",
      "25   18980          88670   497870              723250   3073300   \n",
      "26   20613          91459   542775              834322   3241410   \n",
      "27   20096          91110   517704              855088   3236184   \n",
      "28   20680          92490   542970              910090   3218100   \n",
      "29   21500          94500   578330              951710   3168200   \n",
      "30   23440         102560   639270             1054860   3073900   \n",
      "31   24700         106590   687730             1092740   3157200   \n",
      "32   23760         109060   672480             1126970   2979900   \n",
      "33   24530         106010   659870             1135610   2834800   \n",
      "34   23330         102220   618950             1113180   2712800   \n",
      "35   21610          97470   580510             1099210   2593800   \n",
      "36   19650          96250   535590             1037050   2506400   \n",
      "37   18208          96153   498534             1023201   2460526   \n",
      "38   16914          93103   446625              974402   2329950   \n",
      "39   15522          89411   409371              911740   2100739   \n",
      "40   15586          90178   408016              911706   2050992   \n",
      "41   16037          90863   423557              909023   2116531   \n",
      "42   16229          95235   420806              891407   2151252   \n",
      "43   16528          93883   414235              859030   2154834   \n",
      "44   16148          95089   401470              847381   2144446   \n",
      "45   16740          94347   417438              862220   2155448   \n",
      "46   17030          92757   447403              860853   2183746   \n",
      "47   16929          90427   445125              855856   2176140   \n",
      "48   16442          90479   443574              842134   2228474   \n",
      "49   15399          89241   408742              812514   2203313   \n",
      "50   14772          85593   369089              781844   2168457   \n",
      "51   14661          84175   354772              752423   2185140   \n",
      "52   14866          85141   355051              762009   2109932   \n",
      "53   14319          82109   345095              726575   1931835   \n",
      "54   14249          84041   325802              741291   1729806   \n",
      "\n",
      "    Larceny_Theft  Vehicle_Theft  \n",
      "0         1855400         328200  \n",
      "1         1913000         336000  \n",
      "2         2089600         366800  \n",
      "3         2297800         408300  \n",
      "4         2514400         472800  \n",
      "5         2572600         496900  \n",
      "6         2822000         561200  \n",
      "7         3111600         659800  \n",
      "8         3482700         783600  \n",
      "9         3888600         878500  \n",
      "10        4225800         928400  \n",
      "11        4424200         948200  \n",
      "12        4151200         887200  \n",
      "13        4347900         928800  \n",
      "14        5262500         977100  \n",
      "15        5977700        1009600  \n",
      "16        6270800         966000  \n",
      "17        5905700         977700  \n",
      "18        5991000        1004100  \n",
      "19        6601000        1112800  \n",
      "20        7136900        1131700  \n",
      "21        7194400        1087800  \n",
      "22        7142500        1062400  \n",
      "23        6712800        1007900  \n",
      "24        6591900        1032200  \n",
      "25        6926400        1102900  \n",
      "26        7257153        1224137  \n",
      "27        7499900        1288674  \n",
      "28        7705900        1432900  \n",
      "29        7872400        1564800  \n",
      "30        7945700        1635900  \n",
      "31        8142200        1661700  \n",
      "32        7915200        1610800  \n",
      "33        7820900        1563100  \n",
      "34        7879800        1539300  \n",
      "35        7997700        1472400  \n",
      "36        7904700        1394200  \n",
      "37        7743760        1354189  \n",
      "38        7373886        1240754  \n",
      "39        6955520        1152075  \n",
      "40        6971590        1160002  \n",
      "41        7092267        1228391  \n",
      "42        7057370        1246646  \n",
      "43        7026802        1261226  \n",
      "44        6937089        1237851  \n",
      "45        6783447        1235859  \n",
      "46        6607013        1192809  \n",
      "47        6568572        1095769  \n",
      "48        6588046         958629  \n",
      "49        6338095         795652  \n",
      "50        6204601         739565  \n",
      "51        6151095         716508  \n",
      "52        6168874         723186  \n",
      "53        6018632         700294  \n",
      "54        5858496         689527  \n"
     ]
    }
   ],
   "source": [
    "import pandas as pd \n",
    "us['Year'] = pd.to_datetime(us['Year'])\n",
    "print(us)"
   ]
  },
  {
   "cell_type": "markdown",
   "metadata": {
    "colab_type": "text",
    "id": "wUMLk49Wui-h"
   },
   "source": [
    "### Tarefa 4. Configure a coluna Year como index do DataFrame.\n",
    "\n",
    "*Dica: use a função set_index() do Pandas* "
   ]
  },
  {
   "cell_type": "code",
   "execution_count": 3,
   "metadata": {
    "colab": {},
    "colab_type": "code",
    "id": "6n-r6P4jui-i"
   },
   "outputs": [],
   "source": [
    "us = us.set_index('Year')"
   ]
  },
  {
   "cell_type": "code",
   "execution_count": 4,
   "metadata": {},
   "outputs": [
    {
     "data": {
      "text/html": [
       "<div>\n",
       "<style scoped>\n",
       "    .dataframe tbody tr th:only-of-type {\n",
       "        vertical-align: middle;\n",
       "    }\n",
       "\n",
       "    .dataframe tbody tr th {\n",
       "        vertical-align: top;\n",
       "    }\n",
       "\n",
       "    .dataframe thead th {\n",
       "        text-align: right;\n",
       "    }\n",
       "</style>\n",
       "<table border=\"1\" class=\"dataframe\">\n",
       "  <thead>\n",
       "    <tr style=\"text-align: right;\">\n",
       "      <th></th>\n",
       "      <th>Population</th>\n",
       "      <th>Total</th>\n",
       "      <th>Violent</th>\n",
       "      <th>Property</th>\n",
       "      <th>Murder</th>\n",
       "      <th>Forcible_Rape</th>\n",
       "      <th>Robbery</th>\n",
       "      <th>Aggravated_assault</th>\n",
       "      <th>Burglary</th>\n",
       "      <th>Larceny_Theft</th>\n",
       "      <th>Vehicle_Theft</th>\n",
       "    </tr>\n",
       "    <tr>\n",
       "      <th>Year</th>\n",
       "      <th></th>\n",
       "      <th></th>\n",
       "      <th></th>\n",
       "      <th></th>\n",
       "      <th></th>\n",
       "      <th></th>\n",
       "      <th></th>\n",
       "      <th></th>\n",
       "      <th></th>\n",
       "      <th></th>\n",
       "      <th></th>\n",
       "    </tr>\n",
       "  </thead>\n",
       "  <tbody>\n",
       "    <tr>\n",
       "      <th>1960</th>\n",
       "      <td>179323175</td>\n",
       "      <td>3384200</td>\n",
       "      <td>288460</td>\n",
       "      <td>3095700</td>\n",
       "      <td>9110</td>\n",
       "      <td>17190</td>\n",
       "      <td>107840</td>\n",
       "      <td>154320</td>\n",
       "      <td>912100</td>\n",
       "      <td>1855400</td>\n",
       "      <td>328200</td>\n",
       "    </tr>\n",
       "    <tr>\n",
       "      <th>1961</th>\n",
       "      <td>182992000</td>\n",
       "      <td>3488000</td>\n",
       "      <td>289390</td>\n",
       "      <td>3198600</td>\n",
       "      <td>8740</td>\n",
       "      <td>17220</td>\n",
       "      <td>106670</td>\n",
       "      <td>156760</td>\n",
       "      <td>949600</td>\n",
       "      <td>1913000</td>\n",
       "      <td>336000</td>\n",
       "    </tr>\n",
       "    <tr>\n",
       "      <th>1962</th>\n",
       "      <td>185771000</td>\n",
       "      <td>3752200</td>\n",
       "      <td>301510</td>\n",
       "      <td>3450700</td>\n",
       "      <td>8530</td>\n",
       "      <td>17550</td>\n",
       "      <td>110860</td>\n",
       "      <td>164570</td>\n",
       "      <td>994300</td>\n",
       "      <td>2089600</td>\n",
       "      <td>366800</td>\n",
       "    </tr>\n",
       "    <tr>\n",
       "      <th>1963</th>\n",
       "      <td>188483000</td>\n",
       "      <td>4109500</td>\n",
       "      <td>316970</td>\n",
       "      <td>3792500</td>\n",
       "      <td>8640</td>\n",
       "      <td>17650</td>\n",
       "      <td>116470</td>\n",
       "      <td>174210</td>\n",
       "      <td>1086400</td>\n",
       "      <td>2297800</td>\n",
       "      <td>408300</td>\n",
       "    </tr>\n",
       "    <tr>\n",
       "      <th>1964</th>\n",
       "      <td>191141000</td>\n",
       "      <td>4564600</td>\n",
       "      <td>364220</td>\n",
       "      <td>4200400</td>\n",
       "      <td>9360</td>\n",
       "      <td>21420</td>\n",
       "      <td>130390</td>\n",
       "      <td>203050</td>\n",
       "      <td>1213200</td>\n",
       "      <td>2514400</td>\n",
       "      <td>472800</td>\n",
       "    </tr>\n",
       "  </tbody>\n",
       "</table>\n",
       "</div>"
      ],
      "text/plain": [
       "      Population    Total  Violent  Property  Murder  Forcible_Rape  Robbery  \\\n",
       "Year                                                                           \n",
       "1960   179323175  3384200   288460   3095700    9110          17190   107840   \n",
       "1961   182992000  3488000   289390   3198600    8740          17220   106670   \n",
       "1962   185771000  3752200   301510   3450700    8530          17550   110860   \n",
       "1963   188483000  4109500   316970   3792500    8640          17650   116470   \n",
       "1964   191141000  4564600   364220   4200400    9360          21420   130390   \n",
       "\n",
       "      Aggravated_assault  Burglary  Larceny_Theft  Vehicle_Theft  \n",
       "Year                                                              \n",
       "1960              154320    912100        1855400         328200  \n",
       "1961              156760    949600        1913000         336000  \n",
       "1962              164570    994300        2089600         366800  \n",
       "1963              174210   1086400        2297800         408300  \n",
       "1964              203050   1213200        2514400         472800  "
      ]
     },
     "execution_count": 4,
     "metadata": {},
     "output_type": "execute_result"
    }
   ],
   "source": [
    "us.head()"
   ]
  },
  {
   "cell_type": "markdown",
   "metadata": {
    "colab_type": "text",
    "id": "J-osqYpUui-l"
   },
   "source": [
    "### Tarefa 5. Remova a coluna Total do DataFrame."
   ]
  },
  {
   "cell_type": "code",
   "execution_count": 15,
   "metadata": {
    "colab": {},
    "colab_type": "code",
    "id": "td1aqCVrui-m"
   },
   "outputs": [
    {
     "data": {
      "text/html": [
       "<div>\n",
       "<style scoped>\n",
       "    .dataframe tbody tr th:only-of-type {\n",
       "        vertical-align: middle;\n",
       "    }\n",
       "\n",
       "    .dataframe tbody tr th {\n",
       "        vertical-align: top;\n",
       "    }\n",
       "\n",
       "    .dataframe thead th {\n",
       "        text-align: right;\n",
       "    }\n",
       "</style>\n",
       "<table border=\"1\" class=\"dataframe\">\n",
       "  <thead>\n",
       "    <tr style=\"text-align: right;\">\n",
       "      <th></th>\n",
       "      <th>Year</th>\n",
       "      <th>Population</th>\n",
       "      <th>Violent</th>\n",
       "      <th>Property</th>\n",
       "      <th>Murder</th>\n",
       "      <th>Forcible_Rape</th>\n",
       "      <th>Robbery</th>\n",
       "      <th>Aggravated_assault</th>\n",
       "      <th>Burglary</th>\n",
       "      <th>Larceny_Theft</th>\n",
       "      <th>Vehicle_Theft</th>\n",
       "    </tr>\n",
       "  </thead>\n",
       "  <tbody>\n",
       "    <tr>\n",
       "      <th>0</th>\n",
       "      <td>1970-01-01 00:00:00.000001960</td>\n",
       "      <td>179323175</td>\n",
       "      <td>288460</td>\n",
       "      <td>3095700</td>\n",
       "      <td>9110</td>\n",
       "      <td>17190</td>\n",
       "      <td>107840</td>\n",
       "      <td>154320</td>\n",
       "      <td>912100</td>\n",
       "      <td>1855400</td>\n",
       "      <td>328200</td>\n",
       "    </tr>\n",
       "    <tr>\n",
       "      <th>1</th>\n",
       "      <td>1970-01-01 00:00:00.000001961</td>\n",
       "      <td>182992000</td>\n",
       "      <td>289390</td>\n",
       "      <td>3198600</td>\n",
       "      <td>8740</td>\n",
       "      <td>17220</td>\n",
       "      <td>106670</td>\n",
       "      <td>156760</td>\n",
       "      <td>949600</td>\n",
       "      <td>1913000</td>\n",
       "      <td>336000</td>\n",
       "    </tr>\n",
       "    <tr>\n",
       "      <th>2</th>\n",
       "      <td>1970-01-01 00:00:00.000001962</td>\n",
       "      <td>185771000</td>\n",
       "      <td>301510</td>\n",
       "      <td>3450700</td>\n",
       "      <td>8530</td>\n",
       "      <td>17550</td>\n",
       "      <td>110860</td>\n",
       "      <td>164570</td>\n",
       "      <td>994300</td>\n",
       "      <td>2089600</td>\n",
       "      <td>366800</td>\n",
       "    </tr>\n",
       "    <tr>\n",
       "      <th>3</th>\n",
       "      <td>1970-01-01 00:00:00.000001963</td>\n",
       "      <td>188483000</td>\n",
       "      <td>316970</td>\n",
       "      <td>3792500</td>\n",
       "      <td>8640</td>\n",
       "      <td>17650</td>\n",
       "      <td>116470</td>\n",
       "      <td>174210</td>\n",
       "      <td>1086400</td>\n",
       "      <td>2297800</td>\n",
       "      <td>408300</td>\n",
       "    </tr>\n",
       "    <tr>\n",
       "      <th>4</th>\n",
       "      <td>1970-01-01 00:00:00.000001964</td>\n",
       "      <td>191141000</td>\n",
       "      <td>364220</td>\n",
       "      <td>4200400</td>\n",
       "      <td>9360</td>\n",
       "      <td>21420</td>\n",
       "      <td>130390</td>\n",
       "      <td>203050</td>\n",
       "      <td>1213200</td>\n",
       "      <td>2514400</td>\n",
       "      <td>472800</td>\n",
       "    </tr>\n",
       "  </tbody>\n",
       "</table>\n",
       "</div>"
      ],
      "text/plain": [
       "                           Year  Population  Violent  Property  Murder  \\\n",
       "0 1970-01-01 00:00:00.000001960   179323175   288460   3095700    9110   \n",
       "1 1970-01-01 00:00:00.000001961   182992000   289390   3198600    8740   \n",
       "2 1970-01-01 00:00:00.000001962   185771000   301510   3450700    8530   \n",
       "3 1970-01-01 00:00:00.000001963   188483000   316970   3792500    8640   \n",
       "4 1970-01-01 00:00:00.000001964   191141000   364220   4200400    9360   \n",
       "\n",
       "   Forcible_Rape  Robbery  Aggravated_assault  Burglary  Larceny_Theft  \\\n",
       "0          17190   107840              154320    912100        1855400   \n",
       "1          17220   106670              156760    949600        1913000   \n",
       "2          17550   110860              164570    994300        2089600   \n",
       "3          17650   116470              174210   1086400        2297800   \n",
       "4          21420   130390              203050   1213200        2514400   \n",
       "\n",
       "   Vehicle_Theft  \n",
       "0         328200  \n",
       "1         336000  \n",
       "2         366800  \n",
       "3         408300  \n",
       "4         472800  "
      ]
     },
     "execution_count": 15,
     "metadata": {},
     "output_type": "execute_result"
    }
   ],
   "source": [
    "us= us.drop(columns=['Total'])\n",
    "us.head()"
   ]
  },
  {
   "cell_type": "markdown",
   "metadata": {
    "colab_type": "text",
    "id": "sNRpI3snDwZ7"
   },
   "source": [
    "### Tarefa 6. Encontre o número de roubos de carro do ano de 1978."
   ]
  },
  {
   "cell_type": "code",
   "execution_count": 3,
   "metadata": {
    "colab": {},
    "colab_type": "code",
    "id": "iCHYwMqLECpl"
   },
   "outputs": [
    {
     "data": {
      "text/plain": [
       "689527     0.018182\n",
       "878500     0.018182\n",
       "1224137    0.018182\n",
       "1087800    0.018182\n",
       "1610800    0.018182\n",
       "1246646    0.018182\n",
       "1102900    0.018182\n",
       "1240754    0.018182\n",
       "561200     0.018182\n",
       "1261226    0.018182\n",
       "1004100    0.018182\n",
       "928800     0.018182\n",
       "958629     0.018182\n",
       "887200     0.018182\n",
       "1112800    0.018182\n",
       "966000     0.018182\n",
       "1007900    0.018182\n",
       "1394200    0.018182\n",
       "716508     0.018182\n",
       "1235859    0.018182\n",
       "1564800    0.018182\n",
       "1472400    0.018182\n",
       "1192809    0.018182\n",
       "328200     0.018182\n",
       "700294     0.018182\n",
       "496900     0.018182\n",
       "1635900    0.018182\n",
       "1009600    0.018182\n",
       "723186     0.018182\n",
       "1563100    0.018182\n",
       "783600     0.018182\n",
       "739565     0.018182\n",
       "408300     0.018182\n",
       "1131700    0.018182\n",
       "977700     0.018182\n",
       "948200     0.018182\n",
       "1228391    0.018182\n",
       "1539300    0.018182\n",
       "928400     0.018182\n",
       "1288674    0.018182\n",
       "472800     0.018182\n",
       "1237851    0.018182\n",
       "1062400    0.018182\n",
       "1095769    0.018182\n",
       "659800     0.018182\n",
       "366800     0.018182\n",
       "1354189    0.018182\n",
       "977100     0.018182\n",
       "1152075    0.018182\n",
       "1032200    0.018182\n",
       "795652     0.018182\n",
       "1661700    0.018182\n",
       "1432900    0.018182\n",
       "1160002    0.018182\n",
       "336000     0.018182\n",
       "Name: Vehicle_Theft, dtype: float64"
      ]
     },
     "execution_count": 3,
     "metadata": {},
     "output_type": "execute_result"
    }
   ],
   "source": [
    "us['Vehicle_Theft'].value_counts(1978)"
   ]
  },
  {
   "cell_type": "markdown",
   "metadata": {
    "colab_type": "text",
    "id": "EAlbLVK2ui-q"
   },
   "source": [
    "### Tarefa 7. Retorne a linha do ano em que houve o maior número de assasinatos. \n",
    "\n",
    "*Dica: use a coluna Murder como referência.*"
   ]
  },
  {
   "cell_type": "code",
   "execution_count": 6,
   "metadata": {
    "colab": {},
    "colab_type": "code",
    "id": "GpIqR-6vui-s"
   },
   "outputs": [
    {
     "data": {
      "text/plain": [
       "31"
      ]
     },
     "execution_count": 6,
     "metadata": {},
     "output_type": "execute_result"
    }
   ],
   "source": [
    "us.Murder.idxmax()"
   ]
  },
  {
   "cell_type": "markdown",
   "metadata": {
    "colab_type": "text",
    "id": "L7bit-TcEGMm"
   },
   "source": [
    "### Tarefa 8. Retorne o número de assassinatos do ano em que foi registrado o menor número de roubo de carros. \n"
   ]
  },
  {
   "cell_type": "code",
   "execution_count": 8,
   "metadata": {
    "colab": {},
    "colab_type": "code",
    "id": "KAz9sW1oEVeK"
   },
   "outputs": [
    {
     "data": {
      "text/plain": [
       "9110"
      ]
     },
     "execution_count": 8,
     "metadata": {},
     "output_type": "execute_result"
    }
   ],
   "source": [
    "us.Murder[us.Vehicle_Theft.idxmin()]"
   ]
  },
  {
   "cell_type": "markdown",
   "metadata": {
    "colab_type": "text",
    "id": "E0RnhuuMEWsw"
   },
   "source": [
    "**Parabéns! Você chegou ao fim**"
   ]
  }
 ],
 "metadata": {
  "anaconda-cloud": {},
  "colab": {
   "name": "Exercicios_unidade_5_Manipulacao_de_Dados_Parte_02.ipynb",
   "provenance": []
  },
  "kernelspec": {
   "display_name": "Python 3",
   "language": "python",
   "name": "python3"
  },
  "language_info": {
   "codemirror_mode": {
    "name": "ipython",
    "version": 3
   },
   "file_extension": ".py",
   "mimetype": "text/x-python",
   "name": "python",
   "nbconvert_exporter": "python",
   "pygments_lexer": "ipython3",
   "version": "3.8.3"
  }
 },
 "nbformat": 4,
 "nbformat_minor": 1
}
